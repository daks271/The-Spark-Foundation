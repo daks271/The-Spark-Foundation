{
 "cells": [
  {
   "cell_type": "markdown",
   "id": "3fd18504",
   "metadata": {},
   "source": [
    "## Data Science and Business Analytics Internship\n",
    "\n",
    "#### GRIP : The Sparks Foundation\n",
    "\n",
    "#### Author : Ashlesha Datir\n",
    "\n",
    "#### Task 3: Exploratory Data Analysis - Retail\n",
    "\n",
    "Q) As a business manager, try to find out the weak areas where you can work to make more profit. and What all business problems you can derive by exploring the data?\n",
    "\n",
    "Dataset is avilable at:https://bit.ly/3i4rbWl"
   ]
  },
  {
   "cell_type": "code",
   "execution_count": null,
   "id": "85285ab8",
   "metadata": {},
   "outputs": [],
   "source": []
  }
 ],
 "metadata": {
  "kernelspec": {
   "display_name": "Python 3",
   "language": "python",
   "name": "python3"
  },
  "language_info": {
   "codemirror_mode": {
    "name": "ipython",
    "version": 3
   },
   "file_extension": ".py",
   "mimetype": "text/x-python",
   "name": "python",
   "nbconvert_exporter": "python",
   "pygments_lexer": "ipython3",
   "version": "3.8.8"
  }
 },
 "nbformat": 4,
 "nbformat_minor": 5
}
